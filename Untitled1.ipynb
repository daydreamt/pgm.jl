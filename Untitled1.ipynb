{
 "metadata": {
  "language": "Julia",
  "name": "",
  "signature": "sha256:b7b886d2aba14c4703c065a761adffed0ea6b9aeb2dce830dcc2c19ef2aec4c7"
 },
 "nbformat": 3,
 "nbformat_minor": 0,
 "worksheets": [
  {
   "cells": [
    {
     "cell_type": "code",
     "collapsed": false,
     "input": [
      "require(\"Graphs\")\n",
      "using Graphs\n",
      "function getParents(g, vertex)\n",
      "    res = Set()\n",
      "    for edge in g.edges\n",
      "        s = edge.source\n",
      "        t = edge.target\n",
      "        if (t.label == vertex) push!(res, s)\n",
      "        end\n",
      "    end\n",
      "    return res\n",
      "end\n",
      "\n",
      "function getChildren(g, vertex)\n",
      "    res = Set()\n",
      "    for edge in g.edges\n",
      "        s = edge.source\n",
      "        t = edge.target\n",
      "        if (s.label == vertex) push!(res, t)\n",
      "        end\n",
      "    end\n",
      "    return res\n",
      "end"
     ],
     "language": "python",
     "metadata": {},
     "outputs": [
      {
       "metadata": {},
       "output_type": "pyout",
       "prompt_number": 2,
       "text": [
        "getChildren (generic function with 1 method)"
       ]
      }
     ],
     "prompt_number": 2
    },
    {
     "cell_type": "code",
     "collapsed": false,
     "input": [
      "pairs = [(1,3), (2,3), (3,4), (3,5)]\n",
      "\n",
      "gd = graph(ExVertex[], ExEdge{ExVertex}[], is_directed=false)\n",
      "map((x) -> add_vertex!(gd, string(x)), 1:5)\n",
      "V = vertices(gd)\n",
      "map((edg) -> add_edge!(gd, V[edg[1]], V[edg[2]]), pairs)\n",
      "\n",
      "# GenericIncidenceList is best for the graph\n",
      "priority = topological_sort_by_dfs(gd)\n",
      "for vertex in priority\n",
      "    idx = vertex.index\n",
      "    # can now access in V[idx]\n",
      "end\n",
      "\n",
      "# So you just go through it topologically\n",
      "\n",
      "#eds = Edge{Int}[Edge(i,p[1],p[2]) for (i,p) in enumerate(pairs)]\n",
      "#gd = simple_edgelist(5, eds)\n",
      "\n",
      "#gd = simple_inclist(length(pairs))\n",
      "#for i = 1 : length(pairs)\n",
      "#    a = pairs[i]\n",
      "#    add_edge!(gd, a[1], a[2])   # add edge\n",
      "#end"
     ],
     "language": "python",
     "metadata": {},
     "outputs": [],
     "prompt_number": 3
    },
    {
     "cell_type": "code",
     "collapsed": false,
     "input": [
      "type FactorGraph\n",
      "    Graph::GenericGraph{ExVertex,ExEdge{ExVertex},Array{ExVertex,1},Array{ExEdge{ExVertex},1},Array{Array{ExEdge{ExVertex},1},1}}\n",
      "    Variables #is a list of hashmaps: Each one contains the \n",
      "    Factors #\n",
      "    \n",
      "end"
     ],
     "language": "python",
     "metadata": {},
     "outputs": [],
     "prompt_number": 4
    },
    {
     "cell_type": "code",
     "collapsed": false,
     "input": [],
     "language": "python",
     "metadata": {},
     "outputs": [],
     "prompt_number": 9
    },
    {
     "cell_type": "code",
     "collapsed": false,
     "input": [
      "edges(gd)"
     ],
     "language": "python",
     "metadata": {},
     "outputs": [
      {
       "metadata": {},
       "output_type": "pyout",
       "prompt_number": 168,
       "text": [
        "4-element Array{ExEdge{ExVertex},1}:\n",
        " edge [1]: vertex [1] \"1\" -- vertex [3] \"3\"\n",
        " edge [2]: vertex [2] \"2\" -- vertex [3] \"3\"\n",
        " edge [3]: vertex [3] \"3\" -- vertex [4] \"4\"\n",
        " edge [4]: vertex [3] \"3\" -- vertex [5] \"5\""
       ]
      }
     ],
     "prompt_number": 168
    },
    {
     "cell_type": "code",
     "collapsed": false,
     "input": [],
     "language": "python",
     "metadata": {},
     "outputs": [],
     "prompt_number": 186
    },
    {
     "cell_type": "code",
     "collapsed": false,
     "input": [
      "gd.edges"
     ],
     "language": "python",
     "metadata": {},
     "outputs": [
      {
       "metadata": {},
       "output_type": "pyout",
       "prompt_number": 187,
       "text": [
        "4-element Array{ExEdge{ExVertex},1}:\n",
        " edge [1]: vertex [1] \"1\" -- vertex [3] \"3\"\n",
        " edge [2]: vertex [2] \"2\" -- vertex [3] \"3\"\n",
        " edge [3]: vertex [3] \"3\" -- vertex [4] \"4\"\n",
        " edge [4]: vertex [3] \"3\" -- vertex [5] \"5\""
       ]
      }
     ],
     "prompt_number": 187
    },
    {
     "cell_type": "code",
     "collapsed": false,
     "input": [
      "typeof(gd)"
     ],
     "language": "python",
     "metadata": {},
     "outputs": [
      {
       "metadata": {},
       "output_type": "pyout",
       "prompt_number": 189,
       "text": [
        "GenericGraph{ExVertex,ExEdge{ExVertex},Array{ExVertex,1},Array{ExEdge{ExVertex},1},Array{Array{ExEdge{ExVertex},1},1}} (constructor with 1 method)"
       ]
      }
     ],
     "prompt_number": 189
    },
    {
     "cell_type": "code",
     "collapsed": false,
     "input": [
      "getChildren(g2, \"3\")"
     ],
     "language": "python",
     "metadata": {},
     "outputs": [
      {
       "metadata": {},
       "output_type": "pyout",
       "prompt_number": 164,
       "text": [
        "Set{Any}({vertex [5] \"5\",vertex [4] \"4\"})"
       ]
      }
     ],
     "prompt_number": 164
    },
    {
     "cell_type": "code",
     "collapsed": false,
     "input": [
      "haskey(u, \"label\")"
     ],
     "language": "python",
     "metadata": {},
     "outputs": [
      {
       "ename": "LoadError",
       "evalue": "`haskey` has no method matching haskey(::ExVertex, ::ASCIIString)\nwhile loading In[150], in expression starting on line 1",
       "output_type": "pyerr",
       "traceback": [
        "`haskey` has no method matching haskey(::ExVertex, ::ASCIIString)\nwhile loading In[150], in expression starting on line 1",
        ""
       ]
      }
     ],
     "prompt_number": 150
    }
   ],
   "metadata": {}
  }
 ]
}