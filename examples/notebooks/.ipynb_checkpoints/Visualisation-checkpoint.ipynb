{
 "metadata": {
  "name": "",
  "signature": "sha256:6f89e7429a02862bf2c039daba73ffd2ba216f9c06dde9f43eb2789960865885"
 },
 "nbformat": 3,
 "nbformat_minor": 0,
 "worksheets": []
}