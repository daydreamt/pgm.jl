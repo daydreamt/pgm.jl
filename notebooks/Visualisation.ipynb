{
 "metadata": {
  "language": "Julia",
  "name": "",
  "signature": "sha256:a8e98706a36df8348ba10d6ccb6c695ea06b4157ab9e8463db8a70f0f66a6d73"
 },
 "nbformat": 3,
 "nbformat_minor": 0,
 "worksheets": [
  {
   "cells": [
    {
     "cell_type": "code",
     "collapsed": false,
     "input": [
      "Pkg.build(\"GraphViz\")\n",
      "#BinDeps.debug(\"GraphViz\")"
     ],
     "language": "python",
     "metadata": {},
     "outputs": [
      {
       "output_type": "stream",
       "stream": "stderr",
       "text": [
        "INFO: Building GraphViz\n"
       ]
      },
      {
       "output_type": "stream",
       "stream": "stderr",
       "text": [
        "==============================[ ERROR: GraphViz ]===============================\n",
        "\n",
        "None of the selected providers can install dependency cgraph.\n",
        "Use BinDeps.debug(package_name) to see available providers\n",
        "\n",
        "while loading C:\\Users\\dd\\.julia\\v0.3\\GraphViz\\deps\\build.jl, in expression starting on line 42\n",
        "\n",
        "================================================================================\n",
        "\n",
        "================================[ BUILD ERRORS ]================================\n",
        "\n",
        "WARNING: GraphViz had build errors.\n",
        "\n",
        " - packages with build errors remain installed in C:\\Users\\dd\\.julia\\v0.3\n",
        " - build the package(s) and all dependencies with `Pkg.build(\"GraphViz\")`\n",
        " - build a single package by running its `deps/build.jl` script\n",
        "\n",
        "================================================================================\n"
       ]
      }
     ],
     "prompt_number": 9
    }
   ],
   "metadata": {}
  }
 ]
}