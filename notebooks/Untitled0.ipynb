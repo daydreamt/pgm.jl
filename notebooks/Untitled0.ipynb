{
 "metadata": {
  "language": "Julia",
  "name": "",
  "signature": "sha256:26b1376e7e012c3d4f5440d96f05992e67ab344746452ddc61092029f5be76e2"
 },
 "nbformat": 3,
 "nbformat_minor": 0,
 "worksheets": [
  {
   "cells": [
    {
     "cell_type": "code",
     "collapsed": false,
     "input": [
      "# For shits and giggles\n",
      "using Distributions\n",
      "import Distributions.rand\n",
      "\n",
      "# Let's say all variables will have a state and domain\n",
      "\n",
      "type Domain\n",
      "\tfrom::Int\n",
      "\tto::Int\n",
      "end\n",
      "\n",
      "#Test\n",
      "function rand(d::Domain)\n",
      "\tdu = Distributions.Uniform(d.from, d.to)\n",
      "\treturn rand(du)\n",
      "end"
     ],
     "language": "python",
     "metadata": {},
     "outputs": [
      {
       "metadata": {},
       "output_type": "pyout",
       "prompt_number": 1,
       "text": [
        "rand (generic function with 111 methods)"
       ]
      }
     ],
     "prompt_number": 1
    },
    {
     "cell_type": "code",
     "collapsed": false,
     "input": [],
     "language": "python",
     "metadata": {},
     "outputs": [],
     "prompt_number": 5
    },
    {
     "cell_type": "code",
     "collapsed": false,
     "input": [
      "\n"
     ],
     "language": "python",
     "metadata": {},
     "outputs": [],
     "prompt_number": 7
    },
    {
     "cell_type": "code",
     "collapsed": false,
     "input": [],
     "language": "python",
     "metadata": {},
     "outputs": [],
     "prompt_number": 607
    },
    {
     "cell_type": "code",
     "collapsed": false,
     "input": [
      "function parse_from_to(expr)\n",
      "    println(expr)\n",
      "    tp = nothing\n",
      "    from = expr.args[2]\n",
      "    to = expr.args[3]\n",
      "    if (typeof(from) != Symbol)\n",
      "        tp = typeof(from)\n",
      "    elseif (typeof(from) != Symbol)\n",
      "        tp = typeof(to)\n",
      "    end\n",
      "\n",
      "    return from, to, tp\n",
      "end\n",
      "\n",
      "function parse_dims(expr)\n",
      "    dim1 = 1\n",
      "    dim2 = 1\n",
      "    if ((typeof(expr) != Expr) && (typeof(expr) == Symbol || isinteger(expr)))\n",
      "        dim1 = expr\n",
      "    elseif (length(expr.args) == 2)\n",
      "        dim1 = expr.args[1]\n",
      "        dim2 = expr.args[2]\n",
      "    end\n",
      "\n",
      "    return (dim1, dim2)\n",
      "end\n",
      "\n",
      "function pb(expr::Expr, idx=-1)\n",
      "    s = string(expr)\n",
      "    if (contains(s, \">>>=\") || contains(s, \".//=\"))\n",
      "        error(\"Sorry, you caught the dirty hack, can't parse that.\")\n",
      "    end\n",
      "    expr = parse(replace(s, \"::\", \">>>=\")) #Manipulate the precedence priority\n",
      "\n",
      "    # If it is a block, replace it by the block's contents\n",
      "    if (expr.head == :block)\n",
      "        expr = expr.args[length(expr.args)]\n",
      "    end\n",
      "\n",
      "    # Left is now new\n",
      "    l = expr.args[1]\n",
      "    if (typeof(l) == Symbol) #Great, no array\n",
      "        var = l\n",
      "    else #array\n",
      "        var = l.args[1]\n",
      "        idx = l.args[2]\n",
      "    end\n",
      "\n",
      "    # Right is now the type\n",
      "    # How do I macros in macros?\n",
      "    expr = parse(replace(string(expr.args[2]), \"^\", \".//=\"))\n",
      "    from = :inf\n",
      "    to = :inf\n",
      "    tp = nothing\n",
      "    dims = nothing\n",
      "\n",
      "    if (typeof(expr) == Symbol)\n",
      "        tp = expr\n",
      "    elseif (expr.head == :.//=)\n",
      "        println(expr.args)\n",
      "        # Left we either have the type# or from_to\n",
      "        if (typeof(expr.args[1]) == Symbol)\n",
      "            tp = expr.args[1]\n",
      "        else\n",
      "            from, to, tp = parse_from_to(expr.args[1])\n",
      "        end\n",
      "        # Right we have either one dimension, or 2\n",
      "        dims = parse_dims(expr.args[2])\n",
      "    elseif (expr.args[1] == :..)\n",
      "        from, to, tp = parse_from_to(expr)\n",
      "\n",
      "    else\n",
      "        #println(expr.args)\n",
      "    end\n",
      "\n",
      "    return var, idx, from, to, tp, dims\n",
      "end\n"
     ],
     "language": "python",
     "metadata": {},
     "outputs": [
      {
       "metadata": {},
       "output_type": "pyout",
       "prompt_number": 76,
       "text": [
        "parse_pt (generic function with 2 methods)"
       ]
      }
     ],
     "prompt_number": 76
    },
    {
     "cell_type": "code",
     "collapsed": false,
     "input": [
      "function parse_pt(arg::Expr, consts, hyperparams, params, idx=-1)\n",
      "    \n",
      "    before = (length(consts), length(hyperparams), length(params))\n",
      "    if(arg.args[1] == symbol(\"@constant\"))\n",
      "        (var, idx, from, to, tp, dims) = pb(arg.args[2], idx)\n",
      "        if (!haskey(consts, var))\n",
      "            consts[var] = Set()\n",
      "        end\n",
      "        push!(consts[var], (var, idx, from, to, tp, dims))\n",
      "    elseif(arg.args[1] == symbol(\"@hyperparam\"))\n",
      "        (var, idx, from, to, tp, dims) = pb(arg.args[2], idx)\n",
      "        if (!haskey(hyperparams, var))\n",
      "            hyperparams[var] = Set()\n",
      "        end\n",
      "        push!(hyperparams[var], (var, idx, from, to, tp, dims))\n",
      "    elseif(arg.args[1] == symbol(\"@param\"))\n",
      "        (var, idx, from, to, tp, dims) = pb(arg.args[2], idx)\n",
      "        if (!haskey(params, var))\n",
      "            params[var] = Set()\n",
      "        end\n",
      "        push!(params[var], (var, idx, from, to, tp, dims))\n",
      "    else\n",
      "        if arg.head != :line\n",
      "            println(\"Head: \" , arg.head)\n",
      "            println(\"First arg: \", arg.args[1])\n",
      "            println(arg)\n",
      "        end\n",
      "    end\n",
      "\n",
      "    after = (length(consts), length(hyperparams), length(params))\n",
      "    if before != after\n",
      "        println(\"Changed params\")\n",
      "    end\n",
      "    return consts, hyperparams, params\n",
      "end\n",
      "\n",
      "macro model(name, rest...)\n",
      "\n",
      "    eval(:(model = $(string(name)))) #Set the current model in the global scope\n",
      "    println(model)\n",
      "\n",
      "    #TODO: By using arrays instead, and indexing by them you can save much space\n",
      "    # No need for globalization! :-)\n",
      "\n",
      "    #eval(:(consts = Dict())) # All of these should be specified\n",
      "    #eval(:(hyperparams = Dict())) # When initializing for now\n",
      "    #eval(:(params = Dict()))\n",
      "\n",
      "    consts = Dict()\n",
      "    hyperparams = Dict()\n",
      "    params = Dict()\n",
      "\n",
      "    c = 0\n",
      "    u = 0\n",
      "\n",
      "    # First pass to establish parameters\n",
      "    for(i in rest) # For every top line\n",
      "        if (typeof(i) == Expr) # If it is not a comment\n",
      "            for (arg in i.args)\n",
      "                if(typeof(arg) == Expr)\n",
      "                    consts, hyperparams, params = parse_pt(arg, consts, hyperparams, params)\n",
      "                end\n",
      "            end\n",
      "        end\n",
      "    end\n",
      "\n",
      "    # This closure expects them to create the function\n",
      "    fparamnames = {}\n",
      "    for k in keys(consts)\n",
      "        push!(fparamnames,k )\n",
      "    end\n",
      "    for k in keys(hyperparams)\n",
      "        push!(fparamnames, k)\n",
      "    end\n",
      "\n",
      "    println(fparamnames)\n",
      "\n",
      "    f = parse(\"function \" * model * \" (;ks... ) end\")\n",
      "    f.args[2] =\n",
      "\n",
      "    quote\n",
      "        # Arguments: the model parameters. Returns success or false or something\n",
      "        #Initialize the arguments\n",
      "\n",
      "        #Stupid 2 pass, now parameters are established\n",
      "        for(i in $rest) # For every top line\n",
      "            if (typeof(i) == Expr) # If it is not a comment\n",
      "                for (arg in i.args)\n",
      "                    #println(arg)\n",
      "                    if(typeof(arg) == Expr)\n",
      "                        if(arg.head == :for) # We have a loop\n",
      "                            boundary = arg.args[1]\n",
      "                            loopvar = boundary.args[1]\n",
      "                            lfrom = boundary.args[2].args[1]\n",
      "                            lto = boundary.args[2].args[2]\n",
      "                            contents = arg.args[2]\n",
      "                            #println(boundary)\n",
      "                            println(loopvar,\" \", typeof(loopvar),\" lfrom: \", lfrom, \" \", typeof(lfrom), \" lto: \", Dict(ks)[symbol(lto)], \" \", typeof(lto))\n",
      "                            #println(contents)\n",
      "\n",
      "                            # For this part you need the defined fparamnames, which are given to the constructor\n",
      "\n",
      "                            for k in lfrom:Dict(ks)[symbol(lto)]\n",
      "                                #println(contents)\n",
      "                                for l in contents.args\n",
      "                                    if (typeof(l) == Expr) # If it is not a comment\n",
      "                                        println(\"------------\")\n",
      "                                        println(l)\n",
      "                                        println(\"**\")\n",
      "                                        println(l.head)\n",
      "                                        println(l.args)\n",
      "                                        println(\"-------------\")\n",
      "                                        for (argg in l.args)\n",
      "                                            if(typeof(argg) == Expr)\n",
      "                                                consts, hyperparams, params = parse_pt(argg, $consts, $hyperparams, $params, k)\n",
      "                                            end\n",
      "                                        end\n",
      "                                    end\n",
      "                                #    consts, hyperparams, params = parse_pt(arg, consts, hyperparams, params, idx=k)\n",
      "                                 end\n",
      "                            end\n",
      "                        else\n",
      "                            #println(\"\\\"\", arg, \"\\\" which is of type:\", typeof(arg),\" has args of type: \", typeof(arg.args[1]))\n",
      "                        end\n",
      "                    end\n",
      "                end\n",
      "            end\n",
      "        end\n",
      "\n",
      "        return $consts, $hyperparams, $params\n",
      "\n",
      "    end # End inner constructor function\n",
      "\n",
      "    return f\n",
      "\n",
      "end # End macro\n",
      "\n",
      "f_test =\n",
      "@model GaussianMixtureModel begin\n",
      "    # constant declaration\n",
      "    @constant d::Int   # vector dimension\n",
      "    @constant n::Int   # number of observations\n",
      "    @hyperparam K::Int   # number of components\n",
      "\n",
      "    # parameter declaration\n",
      "    @param pi :: (0.0..1.0)^K    # prior proportions\n",
      "    for k in 1 : K\n",
      "        @param mu[k] :: Float64^d         # component mean\n",
      "        @param sig[k] :: Float64^(d, d)   # component covariance\n",
      "    end\n",
      "\n",
      "    # sample generation process\n",
      "    for i in 1 : n\n",
      "        z[i] ~ Categorical(pi)\n",
      "        x[i] ~ MultivariateNormal(mu[z[i]], sig[z[i]])\n",
      "    end\n",
      "end\n",
      "consts, hyperparams, params = f_test(d=2,n=2,K=5)"
     ],
     "language": "python",
     "metadata": {},
     "outputs": [
      {
       "output_type": "stream",
       "stream": "stdout",
       "text": [
        "GaussianMixtureModel"
       ]
      },
      {
       "output_type": "stream",
       "stream": "stdout",
       "text": [
        "\n",
        "Changed params\n",
        "Changed params\n",
        "Changed params\n",
        "{:(0.0 .. 1.0),:K}\n",
        "0.0 .. 1.0\n",
        "Changed params\n",
        "Head: for\n",
        "First arg: k = 1:K\n",
        "for k = 1:K # line 148:\n",
        "    @param mu[k]::Float64^d # line 149:\n",
        "    @param sig[k]::Float64^(d,d)\n",
        "end\n",
        "Head: for\n",
        "First arg: i = 1:n\n",
        "for i = 1:n # line 154:\n",
        "    @~ z[i] Categorical(pi) # line 155:\n",
        "    @~ x[i] MultivariateNormal(mu[z[i]],sig[z[i]])\n",
        "end\n",
        "{:n,:d,:K}\n",
        "k Symbol lfrom: 1 Int64 lto: 5 Symbol\n",
        "------------\n",
        " # line 148:\n",
        "**\n",
        "line\n",
        "{148}\n",
        "-------------\n",
        "------------\n",
        "@param mu[k]::Float64^d\n",
        "**\n",
        "macrocall\n",
        "{symbol(\"@param\"),:(mu[k]::Float64^d)}\n",
        "-------------\n",
        "Head: call\n",
        "First arg: ^\n",
        "mu[k]::Float64^d\n",
        "------------\n",
        " # line 149:\n",
        "**\n",
        "line\n",
        "{149}\n",
        "-------------\n",
        "------------\n",
        "@param sig[k]::Float64^(d,d)\n",
        "**\n",
        "macrocall\n",
        "{symbol(\"@param\"),:(sig[k]::Float64^(d,d))}\n",
        "-------------\n",
        "Head: call\n",
        "First arg: ^\n",
        "sig[k]::Float64^(d,d)\n",
        "------------\n",
        " # line 148:\n",
        "**\n",
        "line\n",
        "{148}\n",
        "-------------\n",
        "------------\n",
        "@param mu[k]::Float64^d\n",
        "**\n",
        "macrocall\n",
        "{symbol(\"@param\"),:(mu[k]::Float64^d)}\n",
        "-------------\n",
        "Head: call\n",
        "First arg: ^\n",
        "mu[k]::Float64^d\n",
        "------------\n",
        " # line 149:\n",
        "**\n",
        "line\n",
        "{149}\n",
        "-------------\n",
        "------------\n",
        "@param sig[k]::Float64^(d,d)\n",
        "**\n",
        "macrocall\n",
        "{symbol(\"@param\"),:(sig[k]::Float64^(d,d))}\n",
        "-------------\n",
        "Head: call\n",
        "First arg: ^\n",
        "sig[k]::Float64^(d,d)\n",
        "------------\n",
        " # line 148:\n",
        "**\n",
        "line\n",
        "{148}\n",
        "-------------\n",
        "------------\n",
        "@param mu[k]::Float64^d\n",
        "**\n",
        "macrocall\n",
        "{symbol(\"@param\"),:(mu[k]::Float64^d)}\n",
        "-------------\n",
        "Head: call\n",
        "First arg: ^\n",
        "mu[k]::Float64^d\n",
        "------------\n",
        " # line 149:\n",
        "**\n",
        "line\n",
        "{149}\n",
        "-------------\n",
        "------------\n",
        "@param sig[k]::Float64^(d,d)\n",
        "**\n",
        "macrocall\n",
        "{symbol(\"@param\"),:(sig[k]::Float64^(d,d))}\n",
        "-------------\n",
        "Head: call\n",
        "First arg: ^\n",
        "sig[k]::Float64^(d,d)\n",
        "------------\n",
        " # line 148:\n",
        "**\n",
        "line\n",
        "{148}\n",
        "-------------\n",
        "------------\n",
        "@param mu[k]::Float64^d\n",
        "**\n",
        "macrocall\n",
        "{symbol(\"@param\"),:(mu[k]::Float64^d)}\n",
        "-------------\n",
        "Head: call\n",
        "First arg: ^\n",
        "mu[k]::Float64^d\n",
        "------------\n",
        " # line 149:\n",
        "**\n",
        "line\n",
        "{149}\n",
        "-------------\n",
        "------------\n",
        "@param sig[k]::Float64^(d,d)\n",
        "**\n",
        "macrocall\n",
        "{symbol(\"@param\"),:(sig[k]::Float64^(d,d))}\n",
        "-------------\n",
        "Head: call\n",
        "First arg: ^\n",
        "sig[k]::Float64^(d,d)\n",
        "------------\n",
        " # line 148:\n",
        "**\n",
        "line\n",
        "{148}\n",
        "-------------\n",
        "------------\n",
        "@param mu[k]::Float64^d\n",
        "**\n",
        "macrocall\n",
        "{symbol(\"@param\"),:(mu[k]::Float64^d)}\n",
        "-------------\n",
        "Head: call\n",
        "First arg: ^\n",
        "mu[k]::Float64^d\n",
        "------------\n",
        " # line 149:\n",
        "**\n",
        "line\n",
        "{149}\n",
        "-------------\n",
        "------------\n",
        "@param sig[k]::Float64^(d,d)\n",
        "**\n",
        "macrocall\n",
        "{symbol(\"@param\"),:(sig[k]::Float64^(d,d))}\n",
        "-------------\n",
        "Head: call\n",
        "First arg: ^\n",
        "sig[k]::Float64^(d,d)\n",
        "i Symbol lfrom: 1 Int64 lto: 2 Symbol\n",
        "------------\n",
        " # line 154:\n",
        "**\n",
        "line\n",
        "{154}\n",
        "-------------\n",
        "------------\n",
        "@~ z[i] Categorical(pi)\n",
        "**\n",
        "macrocall\n",
        "{symbol(\"@~\"),:(z[i]),:(Categorical(pi))}\n",
        "-------------\n",
        "Head: ref\n",
        "First arg: z\n",
        "z[i]\n",
        "Head: call\n",
        "First arg: Categorical\n",
        "Categorical(pi)\n",
        "------------\n",
        " # line 155:\n",
        "**\n",
        "line\n",
        "{155}\n",
        "-------------\n",
        "------------\n",
        "@~ x[i] MultivariateNormal(mu[z[i]],sig[z[i]])\n",
        "**\n",
        "macrocall\n",
        "{symbol(\"@~\"),:(x[i]),:(MultivariateNormal(mu[z[i]],sig[z[i]]))}\n",
        "-------------\n",
        "Head: ref\n",
        "First arg: x\n",
        "x[i]\n",
        "Head: call\n",
        "First arg: MultivariateNormal\n",
        "MultivariateNormal(mu[z[i]],sig[z[i]])\n",
        "------------"
       ]
      },
      {
       "output_type": "stream",
       "stream": "stdout",
       "text": [
        "\n",
        " # line 154:\n",
        "**\n",
        "line\n",
        "{154}\n",
        "-------------\n",
        "------------\n",
        "@~ z[i] Categorical(pi)\n",
        "**\n",
        "macrocall\n",
        "{symbol(\"@~\"),:(z[i]),:(Categorical(pi))}\n",
        "-------------\n",
        "Head: ref\n",
        "First arg: z\n",
        "z[i]\n",
        "Head: call\n",
        "First arg: Categorical\n",
        "Categorical(pi)\n",
        "------------\n",
        " # line 155:\n",
        "**\n",
        "line\n",
        "{155}\n",
        "-------------\n",
        "------------\n",
        "@~ x[i] MultivariateNormal(mu[z[i]],sig[z[i]])\n",
        "**\n",
        "macrocall\n",
        "{symbol(\"@~\"),:(x[i]),:(MultivariateNormal(mu[z[i]],sig[z[i]]))}\n",
        "-------------\n",
        "Head: ref\n",
        "First arg: x\n",
        "x[i]\n",
        "Head: call\n",
        "First arg: MultivariateNormal\n",
        "MultivariateNormal(mu[z[i]],sig[z[i]])\n"
       ]
      },
      {
       "metadata": {},
       "output_type": "pyout",
       "prompt_number": 86,
       "text": [
        "({:n=>Set{Any}({(:n,-1,:inf,:inf,:Int,nothing)}),:d=>Set{Any}({(:d,-1,:inf,:inf,:Int,nothing)})},{:K=>Set{Any}({(:K,-1,:inf,:inf,:Int,nothing)})},{:pi=>Set{Any}({(:pi,-1,0.0,1.0,Float64,(:K,1))})})"
       ]
      }
     ],
     "prompt_number": 86
    },
    {
     "cell_type": "code",
     "collapsed": false,
     "input": [],
     "language": "python",
     "metadata": {},
     "outputs": [
      {
       "output_type": "stream",
       "stream": "stdout",
       "text": [
        "GaussianMixtureModel"
       ]
      },
      {
       "output_type": "stream",
       "stream": "stdout",
       "text": [
        "\n",
        "NOthing done?4\n",
        " # In[61], line 4:\n",
        "000\n",
        "100\n",
        "NOthing done?5\n",
        " # line 5:\n",
        "100\n",
        "200\n",
        "NOthing done?6\n",
        " # line 6:\n",
        "200\n",
        "210\n",
        "NOthing done?9\n",
        " # line 9:\n",
        "210\n",
        "{:(0.0 .. 1.0),:K}\n",
        "0.0 .. 1.0\n",
        "211\n",
        "NOthing done?10\n",
        " # line 10:\n",
        "211\n",
        "NOthing done?k = 1:K\n",
        "for k = 1:K # line 11:\n",
        "    @param mu[k]::Float64^d # line 12:\n",
        "    @param sig[k]::Float64^(d,d)\n",
        "end\n",
        "211\n",
        "NOthing done?16\n",
        " # line 16:\n",
        "211\n",
        "NOthing done?i = 1:n\n",
        "for i = 1:n # line 17:\n",
        "    @~ z[i] Categorical(pi) # line 18:\n",
        "    @~ x[i] MultivariateNormal(mu[z[i]],sig[z[i]])\n",
        "end\n",
        "211\n",
        "{:n,:d,:K}\n",
        "k Symbol lfrom: 1 Int64 lto: 5 Symbol\n",
        "NOthing done?^\n",
        "mu[k]::Float64^d\n",
        "211\n",
        "NOthing done?^\n",
        "sig[k]::Float64^(d,d)\n",
        "211\n",
        "NOthing done?^\n",
        "mu[k]::Float64^d\n",
        "211\n",
        "NOthing done?^\n",
        "sig[k]::Float64^(d,d)\n",
        "211\n",
        "NOthing done?^\n",
        "mu[k]::Float64^d\n",
        "211\n",
        "NOthing done?^\n",
        "sig[k]::Float64^(d,d)\n",
        "211\n",
        "NOthing done?^\n",
        "mu[k]::Float64^d\n",
        "211\n",
        "NOthing done?^\n",
        "sig[k]::Float64^(d,d)\n",
        "211\n",
        "NOthing done?^\n",
        "mu[k]::Float64^d\n",
        "211\n",
        "NOthing done?^\n",
        "sig[k]::Float64^(d,d)\n",
        "211\n",
        "i Symbol lfrom: 1 Int64 lto: 2 Symbol\n",
        "NOthing done?z\n",
        "z[i]\n",
        "211\n",
        "NOthing done?Categorical\n",
        "Categorical(pi)\n",
        "211\n",
        "NOthing done?x\n",
        "x[i]\n",
        "211\n",
        "NOthing done?MultivariateNormal\n",
        "MultivariateNormal(mu[z[i]],sig[z[i]])\n",
        "211\n",
        "NOthing done?z\n",
        "z[i]\n",
        "211\n",
        "NOthing done?Categorical\n",
        "Categorical(pi)\n",
        "211\n",
        "NOthing done?x\n",
        "x[i]\n",
        "211\n",
        "NOthing done?MultivariateNormal\n",
        "MultivariateNormal(mu[z[i]],sig[z[i]])\n",
        "211\n"
       ]
      },
      {
       "metadata": {},
       "output_type": "pyout",
       "prompt_number": 61,
       "text": [
        "({:n=>Set{Any}({(:n,-1,:inf,:inf,:Int,nothing)}),:d=>Set{Any}({(:d,-1,:inf,:inf,:Int,nothing)})},{:K=>Set{Any}({(:K,-1,:inf,:inf,:Int,nothing)})},{:pi=>Set{Any}({(:pi,-1,0.0,1.0,Float64,(:K,1))})})"
       ]
      }
     ],
     "prompt_number": 61
    },
    {
     "cell_type": "code",
     "collapsed": false,
     "input": [
      "macroexpand(quote f_test =\n",
      "@model GaussianMixtureModel begin\n",
      "    # constant declaration\n",
      "    @constant d::Int   # vector dimension\n",
      "    @constant n::Int   # number of observations\n",
      "    @hyperparam K::Int   # number of components\n",
      "\n",
      "    # parameter declaration\n",
      "    @param pi :: (0.0..1.0)^K    # prior proportions\n",
      "    for k in 1 : K\n",
      "        @param mu[k] :: Float64^d         # component mean\n",
      "        @param sig[k] :: Float64^(d, d)   # component covariance\n",
      "    end\n",
      "\n",
      "    # sample generation process\n",
      "    for i in 1 : n\n",
      "        z[i] ~ Categorical(pi)\n",
      "        x[i] ~ MultivariateNormal(mu[z[i]], sig[z[i]])\n",
      "    end\n",
      "end end)\n",
      "1"
     ],
     "language": "python",
     "metadata": {},
     "outputs": [
      {
       "output_type": "stream",
       "stream": "stdout",
       "text": [
        "GaussianMixtureModel"
       ]
      },
      {
       "output_type": "stream",
       "stream": "stdout",
       "text": [
        "\n",
        "{:(0.0 .. 1.0),:K}\n",
        "0.0 .. 1.0\n",
        "{:n,:d,:K}\n"
       ]
      },
      {
       "metadata": {},
       "output_type": "pyout",
       "prompt_number": 33,
       "text": [
        "1"
       ]
      }
     ],
     "prompt_number": 33
    },
    {
     "cell_type": "code",
     "collapsed": false,
     "input": [
      "f2 = eval(parse(\"function f2(x=1) println(x) end\"))"
     ],
     "language": "python",
     "metadata": {},
     "outputs": [
      {
       "metadata": {},
       "output_type": "pyout",
       "prompt_number": 8,
       "text": [
        "f2 (generic function with 2 methods)"
       ]
      }
     ],
     "prompt_number": 8
    },
    {
     "cell_type": "code",
     "collapsed": false,
     "input": [
      "GaussianMixtureModel()"
     ],
     "language": "python",
     "metadata": {},
     "outputs": [
      {
       "ename": "LoadError",
       "evalue": "GaussianMixtureModel not defined\nwhile loading In[12], in expression starting on line 1",
       "output_type": "pyerr",
       "traceback": [
        "GaussianMixtureModel not defined\nwhile loading In[12], in expression starting on line 1",
        ""
       ]
      }
     ],
     "prompt_number": 12
    },
    {
     "cell_type": "code",
     "collapsed": false,
     "input": [
      "consts, hyperparams, params = f_test(d=2,n=2,K=5)"
     ],
     "language": "python",
     "metadata": {},
     "outputs": [
      {
       "output_type": "stream",
       "stream": "stdout",
       "text": [
        "k"
       ]
      },
      {
       "output_type": "stream",
       "stream": "stdout",
       "text": [
        " Symbol lfrom: 1 Int64 lto: 5 Symbol\n",
        "Expr # line 11:\n",
        "Expr@param mu[k]::Float64^d\n"
       ]
      },
      {
       "ename": "LoadError",
       "evalue": "consts not defined\nwhile loading In[27], in expression starting on line 1",
       "output_type": "pyerr",
       "traceback": [
        "consts not defined\nwhile loading In[27], in expression starting on line 1",
        "",
        " in #1277#GaussianMixtureModel at In[25]:74"
       ]
      }
     ],
     "prompt_number": 27
    },
    {
     "cell_type": "code",
     "collapsed": false,
     "input": [
      "Dict(dic)[:K]"
     ],
     "language": "python",
     "metadata": {},
     "outputs": [
      {
       "metadata": {},
       "output_type": "pyout",
       "prompt_number": 97,
       "text": [
        "5"
       ]
      }
     ],
     "prompt_number": 97
    },
    {
     "cell_type": "code",
     "collapsed": false,
     "input": [
      "params"
     ],
     "language": "python",
     "metadata": {},
     "outputs": [
      {
       "metadata": {},
       "output_type": "pyout",
       "prompt_number": 24,
       "text": [
        "Dict{Any,Any} with 1 entry:\n",
        "  :pi => Set{Any}({(:pi,-1,0.0,1.0,Float64,(:K,1))})"
       ]
      }
     ],
     "prompt_number": 24
    },
    {
     "cell_type": "code",
     "collapsed": false,
     "input": [
      "hyperparams"
     ],
     "language": "python",
     "metadata": {},
     "outputs": [
      {
       "metadata": {},
       "output_type": "pyout",
       "prompt_number": 25,
       "text": [
        "Dict{Any,Any} with 1 entry:\n",
        "  :K => Set{Any}({(:K,-1,:inf,:inf,:Int,nothing)})"
       ]
      }
     ],
     "prompt_number": 25
    },
    {
     "cell_type": "code",
     "collapsed": false,
     "input": [
      "consts"
     ],
     "language": "python",
     "metadata": {},
     "outputs": [
      {
       "metadata": {},
       "output_type": "pyout",
       "prompt_number": 26,
       "text": [
        "Dict{Any,Any} with 2 entries:\n",
        "  :n => Set{Any}({(:n,-1,:inf,:inf,:Int,nothing)})\n",
        "  :d => Set{Any}({(:d,-1,:inf,:inf,:Int,nothing)})"
       ]
      }
     ],
     "prompt_number": 26
    },
    {
     "cell_type": "code",
     "collapsed": false,
     "input": [
      "println(typeof(:(function uu(x=1, y=2) println(x) end).args[1]))"
     ],
     "language": "python",
     "metadata": {},
     "outputs": [
      {
       "output_type": "stream",
       "stream": "stdout",
       "text": [
        "Expr"
       ]
      },
      {
       "output_type": "stream",
       "stream": "stdout",
       "text": [
        "\n"
       ]
      }
     ],
     "prompt_number": 7
    },
    {
     "cell_type": "code",
     "collapsed": false,
     "input": [
      "function uuu(a;args...)\n",
      "    println(args)\n",
      "end"
     ],
     "language": "python",
     "metadata": {},
     "outputs": [
      {
       "metadata": {},
       "output_type": "pyout",
       "prompt_number": 392,
       "text": [
        "uuu (generic function with 3 methods)"
       ]
      }
     ],
     "prompt_number": 392
    },
    {
     "cell_type": "code",
     "collapsed": false,
     "input": [
      "macro mkfun(args)\n",
      "           quote\n",
      "               local t0 = time()\n",
      "               local val = $(esc(ex))\n",
      "               local t1 = time()\n",
      "               println(\"elapsed time: \", t1-t0, \" seconds\")\n",
      "               val\n",
      "           end\n",
      "       end"
     ],
     "language": "python",
     "metadata": {},
     "outputs": [
      {
       "ename": "LoadError",
       "evalue": "unsupported or misplaced expression =>\nwhile loading In[395], in expression starting on line 1",
       "output_type": "pyerr",
       "traceback": [
        "unsupported or misplaced expression =>\nwhile loading In[395], in expression starting on line 1",
        ""
       ]
      }
     ],
     "prompt_number": 395
    },
    {
     "cell_type": "code",
     "collapsed": false,
     "input": [
      "macroexpand(quote f_test(d=2,n=2,K=5) end)"
     ],
     "language": "python",
     "metadata": {},
     "outputs": [
      {
       "metadata": {},
       "output_type": "pyout",
       "prompt_number": 39,
       "text": [
        "quote  # In[39], line 1:\n",
        "    f_test(d=2,n=2,K=5)\n",
        "end"
       ]
      }
     ],
     "prompt_number": 39
    },
    {
     "cell_type": "code",
     "collapsed": false,
     "input": [
      "function parse_name(s)\n",
      "    in_under = false\n",
      "    symbols = String[\"\"]\n",
      "    for c in s\n",
      "        if in_under\n",
      "            if c == '_'\n",
      "                symbols[end] *= \"_\"\n",
      "            else\n",
      "                push!(symbols,string(c))\n",
      "            end\n",
      "            in_under = false\n",
      "        else\n",
      "            if c == '_'\n",
      "                in_under = true\n",
      "            else\n",
      "                symbols[end] *= string(c)\n",
      "                in_under = false\n",
      "            end\n",
      "        end\n",
      "    end\n",
      "    symbols\n",
      "end\n",
      "\n",
      "function foo(a)\n",
      "    return a\n",
      "end "
     ],
     "language": "python",
     "metadata": {},
     "outputs": [
      {
       "metadata": {},
       "output_type": "pyout",
       "prompt_number": 21,
       "text": [
        "foo (generic function with 1 method)"
       ]
      }
     ],
     "prompt_number": 21
    },
    {
     "cell_type": "code",
     "collapsed": false,
     "input": [
      "macro funmac(e)\n",
      "    name = string(e)\n",
      "    println(\"Name: \", name)\n",
      "    syms = parse_name(name)\n",
      "    syms = map(symbol, syms)\n",
      "    print(syms)\n",
      "    quote\n",
      "        print($(syms[2]))\n",
      "        $(syms[1])($(syms[2:end]...))\n",
      "    end\n",
      "end "
     ],
     "language": "python",
     "metadata": {},
     "outputs": [],
     "prompt_number": 24
    },
    {
     "cell_type": "code",
     "collapsed": false,
     "input": [
      "macroexpand( quote @funmac(foo_11) end )"
     ],
     "language": "python",
     "metadata": {},
     "outputs": [
      {
       "output_type": "stream",
       "stream": "stdout",
       "text": [
        "Name: "
       ]
      },
      {
       "output_type": "stream",
       "stream": "stdout",
       "text": [
        "foo_11\n",
        "[:foo,symbol(\"11\")]"
       ]
      },
      {
       "metadata": {},
       "output_type": "pyout",
       "prompt_number": 28,
       "text": [
        "quote  # In[28], line 1:\n",
        "    begin  # In[24], line 8:\n",
        "        print(11) # line 9:\n",
        "        foo(11)\n",
        "    end\n",
        "end"
       ]
      }
     ],
     "prompt_number": 28
    },
    {
     "cell_type": "code",
     "collapsed": false,
     "input": [],
     "language": "python",
     "metadata": {},
     "outputs": [
      {
       "output_type": "stream",
       "stream": "stdout",
       "text": [
        "2"
       ]
      }
     ],
     "prompt_number": 30
    }
   ],
   "metadata": {}
  }
 ]
}