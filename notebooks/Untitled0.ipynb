{
 "metadata": {
  "language": "Julia",
  "name": "",
  "signature": "sha256:d7a8d4e1f692ff9b15f2c4fa8d0e0926f48e8ae117ff9184d35e735861d14ace"
 },
 "nbformat": 3,
 "nbformat_minor": 0,
 "worksheets": [
  {
   "cells": [
    {
     "cell_type": "code",
     "collapsed": false,
     "input": [
      "# For shits and giggles\n",
      "using Distributions\n",
      "import Distributions.rand\n",
      "\n",
      "# Let's say all variables will have a state and domain\n",
      "\n",
      "type Domain\n",
      "\tfrom::Int\n",
      "\tto::Int\n",
      "end\n",
      "\n",
      "#Test\n",
      "function rand(d::Domain)\n",
      "\tdu = Distributions.Uniform(d.from, d.to)\n",
      "\treturn rand(du)\n",
      "end"
     ],
     "language": "python",
     "metadata": {},
     "outputs": [
      {
       "metadata": {},
       "output_type": "pyout",
       "prompt_number": 1,
       "text": [
        "rand (generic function with 111 methods)"
       ]
      }
     ],
     "prompt_number": 1
    },
    {
     "cell_type": "code",
     "collapsed": false,
     "input": [],
     "language": "python",
     "metadata": {},
     "outputs": [],
     "prompt_number": 5
    },
    {
     "cell_type": "code",
     "collapsed": false,
     "input": [
      "\n"
     ],
     "language": "python",
     "metadata": {},
     "outputs": [],
     "prompt_number": 7
    },
    {
     "cell_type": "code",
     "collapsed": false,
     "input": [],
     "language": "python",
     "metadata": {},
     "outputs": [],
     "prompt_number": 607
    },
    {
     "cell_type": "code",
     "collapsed": false,
     "input": [
      "\n",
      "function parse_from_to(expr)\n",
      "    println(expr)\n",
      "    tp = nothing\n",
      "    from = expr.args[2]\n",
      "    to = expr.args[3]\n",
      "    if (typeof(from) != Symbol)\n",
      "        tp = typeof(from)\n",
      "    elseif (typeof(from) != Symbol)\n",
      "        tp = typeof(to)\n",
      "    end\n",
      "\n",
      "    return from, to, tp\n",
      "end\n",
      "\n",
      "function parse_dims(expr)\n",
      "    dim1 = 1\n",
      "    dim2 = 1\n",
      "    if ((typeof(expr) != Expr) && (typeof(expr) == Symbol || isinteger(expr)))\n",
      "        dim1 = expr\n",
      "    elseif (length(expr.args) == 2)\n",
      "        dim1 = expr.args[1]\n",
      "        dim2 = expr.args[2]\n",
      "    end\n",
      "\n",
      "    return (dim1, dim2)\n",
      "end\n",
      "\n",
      "function pb(expr::Expr, idx=-1)\n",
      "    s = string(expr)\n",
      "    if (contains(s, \">>>=\") || contains(s, \".//=\"))\n",
      "        error(\"Sorry, you caught the dirty hack, can't parse that.\")\n",
      "    end\n",
      "    expr = parse(replace(s, \"::\", \">>>=\")) #Manipulate the precedence priority\n",
      "\n",
      "    # If it is a block, replace it by the block's contents\n",
      "    if (expr.head == :block)\n",
      "        expr = expr.args[length(expr.args)]\n",
      "    end\n",
      "\n",
      "    # Left is now new\n",
      "    l = expr.args[1]\n",
      "    if (typeof(l) == Symbol) #Great, no array\n",
      "        var = l\n",
      "    else #array\n",
      "        var = l.args[1]\n",
      "        if idx == -1\n",
      "            idx = l.args[2]\n",
      "        end\n",
      "    end\n",
      "\n",
      "    # Right is now the type\n",
      "    # How do I macros in macros?\n",
      "    expr = parse(replace(string(expr.args[2]), \"^\", \".//=\"))\n",
      "    from = :inf\n",
      "    to = :inf\n",
      "    tp = nothing\n",
      "    dims = nothing\n",
      "\n",
      "    if (typeof(expr) == Symbol)\n",
      "        tp = expr\n",
      "    elseif (expr.head == :.//=)\n",
      "        println(expr.args)\n",
      "        # Left we either have the type# or from_to\n",
      "        if (typeof(expr.args[1]) == Symbol)\n",
      "            tp = expr.args[1]\n",
      "        else\n",
      "            from, to, tp = parse_from_to(expr.args[1])\n",
      "        end\n",
      "        # Right we have either one dimension, or 2\n",
      "        dims = parse_dims(expr.args[2])\n",
      "    elseif (expr.args[1] == :..)\n",
      "        from, to, tp = parse_from_to(expr)\n",
      "\n",
      "    else\n",
      "        #println(expr.args)\n",
      "    end\n",
      "\n",
      "    # Clean up\n",
      "    if dims == nothing || dims == 1\n",
      "        dims = (1,1)\n",
      "    end\n",
      "    #TODO: Think about concrete types. Inference will be hard for large domains.\n",
      "    typelookup = Dict()\n",
      "    typelookup[:float64] = Float64\n",
      "    typelookup[:Float64] = Float64\n",
      "    typelookup[:int] = Int\n",
      "    typelookup[:Integer] = Int64\n",
      "    typelookup[:integer] = Int64\n",
      "\n",
      "    if haskey(typelookup, tp)\n",
      "      tp = typelookup[tp]\n",
      "    end\n",
      "    return var, idx, from, to, tp, dims\n",
      "end"
     ],
     "language": "python",
     "metadata": {},
     "outputs": [
      {
       "metadata": {},
       "output_type": "pyout",
       "prompt_number": 1,
       "text": [
        "pb (generic function with 2 methods)"
       ]
      }
     ],
     "prompt_number": 1
    },
    {
     "cell_type": "code",
     "collapsed": false,
     "input": [
      "function parse_pt(arg::Expr, consts, hyperparams, params, idx=-1, distvalue=None)\n",
      "\n",
      "    before = (length(consts), length(hyperparams), length(params))\n",
      "\n",
      "    if(arg.args[1] in Set{Symbol}([symbol(\"@constant\"),  symbol(\"@hyperparam\"), symbol(\"@param\")]))\n",
      "        (var, idx, from, to, tp, dims) = pb(arg.args[2], idx)\n",
      "\n",
      "        if(arg.args[1] == symbol(\"@constant\"))\n",
      "          if (!haskey(consts, var))\n",
      "              consts[var] = Set()\n",
      "          end\n",
      "          push!(consts[var], (var, idx, from, to, tp, dims, :const))\n",
      "      \n",
      "        elseif(arg.args[1] == symbol(\"@hyperparam\"))\n",
      "          if (!haskey(hyperparams, var))\n",
      "              hyperparams[var] = Set()\n",
      "          end\n",
      "          push!(hyperparams[var], (var, idx, from, to, tp, dims, :hyperparam))\n",
      "        elseif(arg.args[1] == symbol(\"@param\"))\n",
      "          if (!haskey(params, var))\n",
      "              params[var] = Set()\n",
      "          end\n",
      "          push!(params[var], (var, idx, from, to, tp, dims, :unk))\n",
      "        else\n",
      "          println(\"This should not happen\")\n",
      "        end\n",
      "     \n",
      "\n",
      "    elseif(arg.head == :macrocall)\n",
      "\n",
      "      if arg.args[1] == symbol(\"@~\") # type foo ~ bar\n",
      "        println(\"ARE WE HAVING FUN YET?\")\n",
      "        println(arg.args[2], \" -- of type -- \",  typeof(arg.args[2]), \" \", arg.args[2].head)\n",
      "        (var, idx, from, to, tp, dims) = pb(arg.args[2], idx)\n",
      "        println(arg.args[3], \" -- of type -- \",  typeof(arg.args[3]), \" \",)\n",
      "        #(var, idx, from, to, tp, dims, _) = parse_pt(Expr(:macrocall, :@param, arg.args[2]), consts, hyperparams, params, idx, arg.args[3])\n",
      "        if (!haskey(params, var))\n",
      "              params[var] = Set()\n",
      "        end\n",
      "        push!(params[var], (var, idx, from, to, tp, dims, arg.args[3]))\n",
      "      end\n",
      "    \n",
      "    else\n",
      "      if arg.head != :line\n",
      "        println(\"parse_pt called with something not a line: \", arg.head)\n",
      "        println(arg.args)\n",
      "      end\n",
      "    end\n",
      "\n",
      "    after = (length(consts), length(hyperparams), length(params))\n",
      "    if before != after && false\n",
      "        println(\"Changed params\")\n",
      "    end\n",
      "    return consts, hyperparams, params\n",
      "end\n",
      "macro model(name, rest...)\n",
      "\n",
      "    eval(:(model = $(string(name)))) #Set the current model in the global scope\n",
      "    println(model)\n",
      "\n",
      "    #TODO: By using arrays instead, and indexing by them you can save much space\n",
      "    # No need for globalization! :-)\n",
      "\n",
      "    #eval(:(consts = Dict())) # All of these should be specified\n",
      "    #eval(:(hyperparams = Dict())) # When initializing for now\n",
      "    #eval(:(params = Dict()))\n",
      "\n",
      "    consts = Dict()\n",
      "    hyperparams = Dict()\n",
      "    params = Dict()\n",
      "\n",
      "    c = 0\n",
      "    u = 0\n",
      "\n",
      "    # First pass to establish parameters\n",
      "    for(i in rest) # For every top line\n",
      "        if (typeof(i) == Expr) # If it is not a comment\n",
      "            for (arg in i.args)\n",
      "                if(typeof(arg) == Expr)\n",
      "                    consts, hyperparams, params = parse_pt(arg, consts, hyperparams, params)\n",
      "                end\n",
      "            end\n",
      "        end\n",
      "    end\n",
      "\n",
      "    # This closure expects them to create the function\n",
      "    fparamnames = {}\n",
      "    for k in keys(consts)\n",
      "        push!(fparamnames,k )\n",
      "    end\n",
      "    for k in keys(hyperparams)\n",
      "        push!(fparamnames, k)\n",
      "    end\n",
      "\n",
      "    println(fparamnames)\n",
      "\n",
      "    f = parse(\"function \" * model * \" (;ks... ) end\")\n",
      "    f.args[2] =\n",
      "\n",
      "    quote\n",
      "\n",
      "        paramdict = Dict{}()\n",
      "        for (k,v) in ks\n",
      "            paramdict[k]=v\n",
      "        end\n",
      "\n",
      "        # Arguments: the model parameters. Returns success or false or something\n",
      "        #Initialize the arguments\n",
      "\n",
      "        #Stupid 2 pass, now parameters are established\n",
      "\n",
      "        # Replace constants and metaprameters\n",
      "        for cs in $consts #cs = (:name, {})\n",
      "          if cs[1] in keys(paramdict)\n",
      "            s = deepcopy(cs[2]) #Copy set to modify the original\n",
      "            v = paramdict[cs[1]]\n",
      "            for c in s\n",
      "              # See if the current value is :constant instead of its value\n",
      "              if c[7] == :const\n",
      "                c_updated = (c[1], c[2], c[3], c[4], c[5], c[6], v) #TODO\n",
      "                delete!(cs[2], c)\n",
      "                push!(cs[2], c_updated)\n",
      "              end\n",
      "            end\n",
      "          end\n",
      "        end\n",
      "        #Do the same for metaparameters (TODO: DRY) (TODO: merge sets or something with a merge(set1,set2) that works)\n",
      "        for hp in $hyperparams # = (:name, {})\n",
      "          if hp[1] in keys(paramdict)\n",
      "            s = deepcopy(hp[2]) #Copy set to modify the original\n",
      "            v = paramdict[hp[1]]\n",
      "            for c in s\n",
      "              # See if the current value is :hyperparameter instead of its value\n",
      "              if c[7] == :hyperparam\n",
      "                c_updated = (c[1], c[2], c[3], c[4], c[5], c[6], v) #TODO\n",
      "                delete!(hp[2], c)\n",
      "                push!(hp[2], c_updated)\n",
      "              end\n",
      "            end\n",
      "          end\n",
      "        end\n",
      "\n",
      "        for(i in $rest) # For every top line\n",
      "            if (typeof(i) == Expr) # If it is not a comment\n",
      "                for (arg in i.args)\n",
      "                    #println(arg)\n",
      "                    if(typeof(arg) == Expr)\n",
      "                        if(arg.head == :for) # We have a loop\n",
      "                            boundary = arg.args[1]\n",
      "                            loopvar = boundary.args[1]\n",
      "                            lfrom = boundary.args[2].args[1]\n",
      "                            lto = boundary.args[2].args[2]\n",
      "                            contents = arg.args[2]\n",
      "                            #println(boundary)\n",
      "                            println(loopvar,\" \", typeof(loopvar),\" lfrom: \", lfrom, \" \", typeof(lfrom), \" lto: \", Dict(ks)[symbol(lto)], \" \", typeof(lto))\n",
      "                            #println(contents)\n",
      "\n",
      "                            # For this part you need the defined fparamnames, which are given to the constructor\n",
      "\n",
      "                            for k in lfrom:Dict(ks)[symbol(lto)]\n",
      "                                #println(contents)\n",
      "                                for l in contents.args\n",
      "                                    if (typeof(l) == Expr) # If it is not a comment\n",
      "                                        println(\"------start------\")\n",
      "                                        println(l, \" \", typeof(l.head))\n",
      "                                        #println(\"**\")\n",
      "                                        #println(l.head)\n",
      "                                        #println(l.args)\n",
      "                                        consts, hyperparams, params = parse_pt(l, $consts, $hyperparams, $params, k)\n",
      "                                        #TODO: If type == bla ~ blu then ...\n",
      "                                        #end\n",
      "                                        println(\"------end-------\")\n",
      "                                    end\n",
      "                                #    consts, hyperparams, params = parse_pt(arg, consts, hyperparams, params, idx=k)\n",
      "                                 end\n",
      "                            end\n",
      "                        else\n",
      "                            #println(\"\\\"\", arg, \"\\\" which is of type:\", typeof(arg),\" has args of type: \", typeof(arg.args[1]))\n",
      "                        end\n",
      "                    end\n",
      "                end\n",
      "            end\n",
      "        end\n",
      "\n",
      "        return $consts, $hyperparams, $params\n",
      "\n",
      "    end # End inner constructor function\n",
      "\n",
      "    return f\n",
      "\n",
      "end # End macro\n",
      "\n",
      "gmm = @model GaussianMixtureModel begin\n",
      "    # constant declaration\n",
      "    @constant d::Int   # vector dimension\n",
      "    @constant n::Int   # number of observations\n",
      "    @hyperparam K::Int   # number of components\n",
      "\n",
      "    # parameter declaration\n",
      "    @param pi :: (0.0..1.0)^K    # prior proportions\n",
      "    for k in 1 : K\n",
      "        @param mu[k] :: Float64^d         # component mean\n",
      "        @param sig[k] :: Float64^(d, d)   # component covariance\n",
      "    end\n",
      "\n",
      "    # sample generation process\n",
      "    for i in 1 : n\n",
      "        z[i] ~ Categorical(pi)\n",
      "        x[i] ~ MultivariateNormal(mu[z[i]], sig[z[i]])\n",
      "    end\n",
      "end\n",
      "\n",
      "consts, hyperparams, params = gmm(d=2,n=2,K=5)\n",
      "println(consts)\n",
      "print(hyperparams)"
     ],
     "language": "python",
     "metadata": {},
     "outputs": [
      {
       "output_type": "stream",
       "stream": "stdout",
       "text": [
        "GaussianMixtureModel"
       ]
      },
      {
       "output_type": "stream",
       "stream": "stdout",
       "text": [
        "\n",
        "{:(0.0 .. 1.0),:K}\n",
        "0.0 .. 1.0\n",
        "parse_pt called with something not a line: for\n",
        "{:(k = 1:K),quote  # line 206:\n",
        "    @param mu[k]::Float64^d # line 207:\n",
        "    @param sig[k]::Float64^(d,d)\n",
        "end}\n",
        "parse_pt called with something not a line: for\n",
        "{:(i = 1:n),quote  # line 212:\n",
        "    @~ z[i] Categorical(pi) # line 213:\n",
        "    @~ x[i] MultivariateNormal(mu[z[i]],sig[z[i]])\n",
        "end}\n",
        "{:n,:d,:K}\n"
       ]
      },
      {
       "output_type": "stream",
       "stream": "stdout",
       "text": [
        "Replacing consts.\n",
        "*****************\n",
        "Replaced consts.\n",
        "*****************\n",
        "k Symbol lfrom: 1 Int64 lto: 5 Symbol\n",
        "------start------\n",
        " # line 206: Symbol\n",
        "------end-------\n",
        "------start------\n",
        "@param mu[k]::Float64^d Symbol\n",
        "{:Float64,:d}\n",
        "------end-------\n",
        "------start------\n",
        " # line 207: Symbol\n",
        "------end-------\n",
        "------start------\n",
        "@param sig[k]::Float64^(d,d) Symbol\n",
        "{:Float64,:((d,d))}\n",
        "------end-------\n",
        "------start------\n",
        " # line 206: Symbol\n",
        "------end-------\n",
        "------start------\n",
        "@param mu[k]::Float64^d Symbol\n",
        "{:Float64,:d}\n",
        "------end-------\n",
        "------start------\n",
        " # line 207: Symbol\n",
        "------end-------\n",
        "------start------\n",
        "@param sig[k]::Float64^(d,d) Symbol\n",
        "{:Float64,:((d,d))}\n",
        "------end-------\n",
        "------start------\n",
        " # line 206: Symbol\n",
        "------end-------\n",
        "------start------\n",
        "@param mu[k]::Float64^d Symbol\n",
        "{:Float64,:d}\n",
        "------end-------\n",
        "------start------\n",
        " # line 207: Symbol\n",
        "------end-------\n",
        "------start------\n",
        "@param sig[k]::Float64^(d,d) Symbol\n",
        "{:Float64,:((d,d))}\n",
        "------end-------\n",
        "------start------\n",
        " # line 206: Symbol\n",
        "------end-------\n",
        "------start------\n",
        "@param mu[k]::Float64^d Symbol\n",
        "{:Float64,:d}\n",
        "------end-------\n",
        "------start------\n",
        " # line 207: Symbol\n",
        "------end-------\n",
        "------start------\n",
        "@param sig[k]::Float64^(d,d) Symbol\n",
        "{:Float64,:((d,d))}\n",
        "------end-------\n",
        "------start------\n",
        " # line 206: Symbol\n",
        "------end-------\n",
        "------start------\n",
        "@param mu[k]::Float64^d Symbol\n",
        "{:Float64,:d}\n",
        "------end-------\n",
        "------start------\n",
        " # line 207: Symbol\n",
        "------end-------\n",
        "------start------\n",
        "@param sig[k]::Float64^(d,d) Symbol\n",
        "{:Float64,:((d,d))}\n",
        "------end-------\n",
        "i Symbol lfrom: 1 Int64 lto: 2 Symbol\n",
        "------start------\n",
        " # line 212: Symbol\n",
        "------end-------\n",
        "------start------\n",
        "@~ z[i] Categorical(pi) Symbol\n",
        "ARE WE HAVING FUN YET?\n",
        "z[i] -- of type -- Expr ref\n",
        "Categorical(pi) -- of type -- Expr \n",
        "------end-------\n",
        "------start------\n",
        " # line 213: Symbol\n",
        "------end-------\n",
        "------start------\n",
        "@~ x[i] MultivariateNormal(mu[z[i]],sig[z[i]]) Symbol\n",
        "ARE WE HAVING FUN YET?\n",
        "x[i] -- of type -- Expr ref\n",
        "MultivariateNormal(mu[z[i]],sig[z[i]]) -- of type -- Expr \n",
        "------end-------\n",
        "------start------\n",
        " # line 212: Symbol\n",
        "------end-------\n",
        "------start------\n",
        "@~ z[i] Categorical(pi) Symbol\n",
        "ARE WE HAVING FUN YET?\n",
        "z[i] -- of type -- Expr ref\n",
        "Categorical(pi) -- of type -- Expr \n",
        "------end-------\n",
        "------start------\n",
        " # line 213: Symbol\n",
        "------end-------\n",
        "------start------\n",
        "@~ x[i] MultivariateNormal(mu[z[i]],sig[z[i]]) Symbol\n",
        "ARE WE HAVING FUN YET?\n",
        "x[i] -- of type -- Expr ref\n",
        "MultivariateNormal(mu[z[i]],sig[z[i]]) -- of type -- Expr \n",
        "------end-------\n",
        "{:n=>Set{Any}({(:n,-1,:inf,:inf,:Int,(1,1),2)}),:d=>Set{Any}({(:d,-1,:inf,:inf,:Int,(1,1),2)})}\n",
        "{:K=>Set{Any}({(:K,-1,:inf,:inf,:Int,(1,1),5)})}"
       ]
      }
     ],
     "prompt_number": 19
    },
    {
     "cell_type": "code",
     "collapsed": false,
     "input": [
      "params"
     ],
     "language": "python",
     "metadata": {},
     "outputs": [
      {
       "metadata": {},
       "output_type": "pyout",
       "prompt_number": 44,
       "text": [
        "Dict{Any,Any} with 3 entries:\n",
        "  :pi  => Set{Any}({(:pi,-1,0.0,1.0,Float64,(:K,1))})\n",
        "  :sig => Set{Any}({(:sig,3,:inf,:inf,:Float64,(:d,:d)),(:sig,1,:inf,:inf,:Floa\u2026\n",
        "  :mu  => Set{Any}({(:mu,1,:inf,:inf,:Float64,(:d,1)),(:mu,3,:inf,:inf,:Float64\u2026"
       ]
      }
     ],
     "prompt_number": 44
    },
    {
     "cell_type": "code",
     "collapsed": false,
     "input": [
      "macroexpand(quote f_test =\n",
      "@model GaussianMixtureModel begin\n",
      "    # constant declaration\n",
      "    @constant d::Int   # vector dimension\n",
      "    @constant n::Int   # number of observations\n",
      "    @hyperparam K::Int   # number of components\n",
      "\n",
      "    # parameter declaration\n",
      "    @param pi :: (0.0..1.0)^K    # prior proportions\n",
      "    for k in 1 : K\n",
      "        @param mu[k] :: Float64^d         # component mean\n",
      "        @param sig[k] :: Float64^(d, d)   # component covariance\n",
      "    end\n",
      "\n",
      "    # sample generation process\n",
      "    for i in 1 : n\n",
      "        z[i] ~ Categorical(pi)\n",
      "        x[i] ~ MultivariateNormal(mu[z[i]], sig[z[i]])\n",
      "    end\n",
      "end end)\n",
      "1"
     ],
     "language": "python",
     "metadata": {},
     "outputs": [
      {
       "output_type": "stream",
       "stream": "stdout",
       "text": [
        "GaussianMixtureModel"
       ]
      },
      {
       "output_type": "stream",
       "stream": "stdout",
       "text": [
        "\n",
        "{:(0.0 .. 1.0),:K}\n",
        "0.0 .. 1.0\n",
        "{:n,:d,:K}\n"
       ]
      },
      {
       "metadata": {},
       "output_type": "pyout",
       "prompt_number": 33,
       "text": [
        "1"
       ]
      }
     ],
     "prompt_number": 33
    },
    {
     "cell_type": "code",
     "collapsed": false,
     "input": [
      "f2 = eval(parse(\"function f2(x=1) println(x) end\"))"
     ],
     "language": "python",
     "metadata": {},
     "outputs": [
      {
       "metadata": {},
       "output_type": "pyout",
       "prompt_number": 8,
       "text": [
        "f2 (generic function with 2 methods)"
       ]
      }
     ],
     "prompt_number": 8
    },
    {
     "cell_type": "code",
     "collapsed": false,
     "input": [
      "GaussianMixtureModel()"
     ],
     "language": "python",
     "metadata": {},
     "outputs": [
      {
       "ename": "LoadError",
       "evalue": "GaussianMixtureModel not defined\nwhile loading In[12], in expression starting on line 1",
       "output_type": "pyerr",
       "traceback": [
        "GaussianMixtureModel not defined\nwhile loading In[12], in expression starting on line 1",
        ""
       ]
      }
     ],
     "prompt_number": 12
    },
    {
     "cell_type": "code",
     "collapsed": false,
     "input": [
      "consts, hyperparams, params = f_test(d=2,n=2,K=5)"
     ],
     "language": "python",
     "metadata": {},
     "outputs": [
      {
       "output_type": "stream",
       "stream": "stdout",
       "text": [
        "k"
       ]
      },
      {
       "output_type": "stream",
       "stream": "stdout",
       "text": [
        " Symbol lfrom: 1 Int64 lto: 5 Symbol\n",
        "Expr # line 11:\n",
        "Expr@param mu[k]::Float64^d\n"
       ]
      },
      {
       "ename": "LoadError",
       "evalue": "consts not defined\nwhile loading In[27], in expression starting on line 1",
       "output_type": "pyerr",
       "traceback": [
        "consts not defined\nwhile loading In[27], in expression starting on line 1",
        "",
        " in #1277#GaussianMixtureModel at In[25]:74"
       ]
      }
     ],
     "prompt_number": 27
    },
    {
     "cell_type": "code",
     "collapsed": false,
     "input": [
      "Dict(dic)[:K]"
     ],
     "language": "python",
     "metadata": {},
     "outputs": [
      {
       "metadata": {},
       "output_type": "pyout",
       "prompt_number": 97,
       "text": [
        "5"
       ]
      }
     ],
     "prompt_number": 97
    },
    {
     "cell_type": "code",
     "collapsed": false,
     "input": [
      "params"
     ],
     "language": "python",
     "metadata": {},
     "outputs": [
      {
       "metadata": {},
       "output_type": "pyout",
       "prompt_number": 24,
       "text": [
        "Dict{Any,Any} with 1 entry:\n",
        "  :pi => Set{Any}({(:pi,-1,0.0,1.0,Float64,(:K,1))})"
       ]
      }
     ],
     "prompt_number": 24
    },
    {
     "cell_type": "code",
     "collapsed": false,
     "input": [
      "hyperparams"
     ],
     "language": "python",
     "metadata": {},
     "outputs": [
      {
       "metadata": {},
       "output_type": "pyout",
       "prompt_number": 25,
       "text": [
        "Dict{Any,Any} with 1 entry:\n",
        "  :K => Set{Any}({(:K,-1,:inf,:inf,:Int,nothing)})"
       ]
      }
     ],
     "prompt_number": 25
    },
    {
     "cell_type": "code",
     "collapsed": false,
     "input": [
      "consts"
     ],
     "language": "python",
     "metadata": {},
     "outputs": [
      {
       "metadata": {},
       "output_type": "pyout",
       "prompt_number": 26,
       "text": [
        "Dict{Any,Any} with 2 entries:\n",
        "  :n => Set{Any}({(:n,-1,:inf,:inf,:Int,nothing)})\n",
        "  :d => Set{Any}({(:d,-1,:inf,:inf,:Int,nothing)})"
       ]
      }
     ],
     "prompt_number": 26
    },
    {
     "cell_type": "code",
     "collapsed": false,
     "input": [
      "println(typeof(:(function uu(x=1, y=2) println(x) end).args[1]))"
     ],
     "language": "python",
     "metadata": {},
     "outputs": [
      {
       "output_type": "stream",
       "stream": "stdout",
       "text": [
        "Expr"
       ]
      },
      {
       "output_type": "stream",
       "stream": "stdout",
       "text": [
        "\n"
       ]
      }
     ],
     "prompt_number": 7
    },
    {
     "cell_type": "code",
     "collapsed": false,
     "input": [
      "function uuu(a;args...)\n",
      "    println(args)\n",
      "end"
     ],
     "language": "python",
     "metadata": {},
     "outputs": [
      {
       "metadata": {},
       "output_type": "pyout",
       "prompt_number": 392,
       "text": [
        "uuu (generic function with 3 methods)"
       ]
      }
     ],
     "prompt_number": 392
    },
    {
     "cell_type": "code",
     "collapsed": false,
     "input": [
      "macro mkfun(args)\n",
      "           quote\n",
      "               local t0 = time()\n",
      "               local val = $(esc(ex))\n",
      "               local t1 = time()\n",
      "               println(\"elapsed time: \", t1-t0, \" seconds\")\n",
      "               val\n",
      "           end\n",
      "       end"
     ],
     "language": "python",
     "metadata": {},
     "outputs": [
      {
       "ename": "LoadError",
       "evalue": "unsupported or misplaced expression =>\nwhile loading In[395], in expression starting on line 1",
       "output_type": "pyerr",
       "traceback": [
        "unsupported or misplaced expression =>\nwhile loading In[395], in expression starting on line 1",
        ""
       ]
      }
     ],
     "prompt_number": 395
    },
    {
     "cell_type": "code",
     "collapsed": false,
     "input": [
      "macroexpand(quote f_test(d=2,n=2,K=5) end)"
     ],
     "language": "python",
     "metadata": {},
     "outputs": [
      {
       "metadata": {},
       "output_type": "pyout",
       "prompt_number": 39,
       "text": [
        "quote  # In[39], line 1:\n",
        "    f_test(d=2,n=2,K=5)\n",
        "end"
       ]
      }
     ],
     "prompt_number": 39
    },
    {
     "cell_type": "code",
     "collapsed": false,
     "input": [
      "function parse_name(s)\n",
      "    in_under = false\n",
      "    symbols = String[\"\"]\n",
      "    for c in s\n",
      "        if in_under\n",
      "            if c == '_'\n",
      "                symbols[end] *= \"_\"\n",
      "            else\n",
      "                push!(symbols,string(c))\n",
      "            end\n",
      "            in_under = false\n",
      "        else\n",
      "            if c == '_'\n",
      "                in_under = true\n",
      "            else\n",
      "                symbols[end] *= string(c)\n",
      "                in_under = false\n",
      "            end\n",
      "        end\n",
      "    end\n",
      "    symbols\n",
      "end\n",
      "\n",
      "function foo(a)\n",
      "    return a\n",
      "end "
     ],
     "language": "python",
     "metadata": {},
     "outputs": [
      {
       "metadata": {},
       "output_type": "pyout",
       "prompt_number": 21,
       "text": [
        "foo (generic function with 1 method)"
       ]
      }
     ],
     "prompt_number": 21
    },
    {
     "cell_type": "code",
     "collapsed": false,
     "input": [
      "macro funmac(e)\n",
      "    name = string(e)\n",
      "    println(\"Name: \", name)\n",
      "    syms = parse_name(name)\n",
      "    syms = map(symbol, syms)\n",
      "    print(syms)\n",
      "    quote\n",
      "        print($(syms[2]))\n",
      "        $(syms[1])($(syms[2:end]...))\n",
      "    end\n",
      "end "
     ],
     "language": "python",
     "metadata": {},
     "outputs": [],
     "prompt_number": 24
    },
    {
     "cell_type": "code",
     "collapsed": false,
     "input": [
      "macroexpand( quote @funmac(foo_11) end )"
     ],
     "language": "python",
     "metadata": {},
     "outputs": [
      {
       "output_type": "stream",
       "stream": "stdout",
       "text": [
        "Name: "
       ]
      },
      {
       "output_type": "stream",
       "stream": "stdout",
       "text": [
        "foo_11\n",
        "[:foo,symbol(\"11\")]"
       ]
      },
      {
       "metadata": {},
       "output_type": "pyout",
       "prompt_number": 28,
       "text": [
        "quote  # In[28], line 1:\n",
        "    begin  # In[24], line 8:\n",
        "        print(11) # line 9:\n",
        "        foo(11)\n",
        "    end\n",
        "end"
       ]
      }
     ],
     "prompt_number": 28
    },
    {
     "cell_type": "code",
     "collapsed": false,
     "input": [],
     "language": "python",
     "metadata": {},
     "outputs": [
      {
       "output_type": "stream",
       "stream": "stdout",
       "text": [
        "2"
       ]
      }
     ],
     "prompt_number": 30
    }
   ],
   "metadata": {}
  }
 ]
}